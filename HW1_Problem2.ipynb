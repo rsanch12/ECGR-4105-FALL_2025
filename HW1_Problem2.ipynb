{
  "nbformat": 4,
  "nbformat_minor": 0,
  "metadata": {
    "colab": {
      "provenance": []
    },
    "kernelspec": {
      "name": "python3",
      "display_name": "Python 3"
    },
    "language_info": {
      "name": "python"
    }
  },
  "cells": [
    {
      "cell_type": "code",
      "execution_count": 1,
      "metadata": {
        "id": "JpkzpjjiaqTG"
      },
      "outputs": [],
      "source": [
        "import numpy as np\n",
        "import pandas as pd\n",
        "import matplotlib.pyplot as plt"
      ]
    },
    {
      "cell_type": "code",
      "source": [
        "url='https://raw.githubusercontent.com/HamedTabkhi/Intro-to-ML/b4cf4ac187d647a443dc011c4ee85fbb42e26096/Dataset/D3.csv'\n",
        "\n",
        "df = pd.read_csv(url)\n",
        "\n",
        "# It shows the data of D3.csv but only for the first 5 rows\n",
        "print(df.head())"
      ],
      "metadata": {
        "colab": {
          "base_uri": "https://localhost:8080/"
        },
        "id": "fZ7ZyAYJjn-P",
        "outputId": "19a67db9-49a8-43a8-b4ae-993d59765ba1"
      },
      "execution_count": 2,
      "outputs": [
        {
          "output_type": "stream",
          "name": "stdout",
          "text": [
            "         X1        X2        X3         Y\n",
            "0  0.000000  3.440000  0.440000  4.387545\n",
            "1  0.040404  0.134949  0.888485  2.679650\n",
            "2  0.080808  0.829899  1.336970  2.968490\n",
            "3  0.121212  1.524848  1.785455  3.254065\n",
            "4  0.161616  2.219798  2.233939  3.536375\n"
          ]
        }
      ]
    },
    {
      "cell_type": "code",
      "source": [
        "from IPython.display import display\n",
        "display(df)"
      ],
      "metadata": {
        "colab": {
          "base_uri": "https://localhost:8080/",
          "height": 424
        },
        "id": "UPG1m1VWqynU",
        "outputId": "04a73670-9151-4683-a3bb-472714a20a8e"
      },
      "execution_count": 3,
      "outputs": [
        {
          "output_type": "display_data",
          "data": {
            "text/plain": [
              "          X1        X2        X3         Y\n",
              "0   0.000000  3.440000  0.440000  4.387545\n",
              "1   0.040404  0.134949  0.888485  2.679650\n",
              "2   0.080808  0.829899  1.336970  2.968490\n",
              "3   0.121212  1.524848  1.785455  3.254065\n",
              "4   0.161616  2.219798  2.233939  3.536375\n",
              "..       ...       ...       ...       ...\n",
              "95  3.838384  1.460202  3.046061 -4.440595\n",
              "96  3.878788  2.155152  3.494545 -4.458663\n",
              "97  3.919192  2.850101  3.943030 -4.479995\n",
              "98  3.959596  3.545051  0.391515 -3.304593\n",
              "99  4.000000  0.240000  0.840000 -5.332455\n",
              "\n",
              "[100 rows x 4 columns]"
            ],
            "text/html": [
              "\n",
              "  <div id=\"df-7652ad94-1559-4121-ab7b-3a88384a4c18\" class=\"colab-df-container\">\n",
              "    <div>\n",
              "<style scoped>\n",
              "    .dataframe tbody tr th:only-of-type {\n",
              "        vertical-align: middle;\n",
              "    }\n",
              "\n",
              "    .dataframe tbody tr th {\n",
              "        vertical-align: top;\n",
              "    }\n",
              "\n",
              "    .dataframe thead th {\n",
              "        text-align: right;\n",
              "    }\n",
              "</style>\n",
              "<table border=\"1\" class=\"dataframe\">\n",
              "  <thead>\n",
              "    <tr style=\"text-align: right;\">\n",
              "      <th></th>\n",
              "      <th>X1</th>\n",
              "      <th>X2</th>\n",
              "      <th>X3</th>\n",
              "      <th>Y</th>\n",
              "    </tr>\n",
              "  </thead>\n",
              "  <tbody>\n",
              "    <tr>\n",
              "      <th>0</th>\n",
              "      <td>0.000000</td>\n",
              "      <td>3.440000</td>\n",
              "      <td>0.440000</td>\n",
              "      <td>4.387545</td>\n",
              "    </tr>\n",
              "    <tr>\n",
              "      <th>1</th>\n",
              "      <td>0.040404</td>\n",
              "      <td>0.134949</td>\n",
              "      <td>0.888485</td>\n",
              "      <td>2.679650</td>\n",
              "    </tr>\n",
              "    <tr>\n",
              "      <th>2</th>\n",
              "      <td>0.080808</td>\n",
              "      <td>0.829899</td>\n",
              "      <td>1.336970</td>\n",
              "      <td>2.968490</td>\n",
              "    </tr>\n",
              "    <tr>\n",
              "      <th>3</th>\n",
              "      <td>0.121212</td>\n",
              "      <td>1.524848</td>\n",
              "      <td>1.785455</td>\n",
              "      <td>3.254065</td>\n",
              "    </tr>\n",
              "    <tr>\n",
              "      <th>4</th>\n",
              "      <td>0.161616</td>\n",
              "      <td>2.219798</td>\n",
              "      <td>2.233939</td>\n",
              "      <td>3.536375</td>\n",
              "    </tr>\n",
              "    <tr>\n",
              "      <th>...</th>\n",
              "      <td>...</td>\n",
              "      <td>...</td>\n",
              "      <td>...</td>\n",
              "      <td>...</td>\n",
              "    </tr>\n",
              "    <tr>\n",
              "      <th>95</th>\n",
              "      <td>3.838384</td>\n",
              "      <td>1.460202</td>\n",
              "      <td>3.046061</td>\n",
              "      <td>-4.440595</td>\n",
              "    </tr>\n",
              "    <tr>\n",
              "      <th>96</th>\n",
              "      <td>3.878788</td>\n",
              "      <td>2.155152</td>\n",
              "      <td>3.494545</td>\n",
              "      <td>-4.458663</td>\n",
              "    </tr>\n",
              "    <tr>\n",
              "      <th>97</th>\n",
              "      <td>3.919192</td>\n",
              "      <td>2.850101</td>\n",
              "      <td>3.943030</td>\n",
              "      <td>-4.479995</td>\n",
              "    </tr>\n",
              "    <tr>\n",
              "      <th>98</th>\n",
              "      <td>3.959596</td>\n",
              "      <td>3.545051</td>\n",
              "      <td>0.391515</td>\n",
              "      <td>-3.304593</td>\n",
              "    </tr>\n",
              "    <tr>\n",
              "      <th>99</th>\n",
              "      <td>4.000000</td>\n",
              "      <td>0.240000</td>\n",
              "      <td>0.840000</td>\n",
              "      <td>-5.332455</td>\n",
              "    </tr>\n",
              "  </tbody>\n",
              "</table>\n",
              "<p>100 rows × 4 columns</p>\n",
              "</div>\n",
              "    <div class=\"colab-df-buttons\">\n",
              "\n",
              "  <div class=\"colab-df-container\">\n",
              "    <button class=\"colab-df-convert\" onclick=\"convertToInteractive('df-7652ad94-1559-4121-ab7b-3a88384a4c18')\"\n",
              "            title=\"Convert this dataframe to an interactive table.\"\n",
              "            style=\"display:none;\">\n",
              "\n",
              "  <svg xmlns=\"http://www.w3.org/2000/svg\" height=\"24px\" viewBox=\"0 -960 960 960\">\n",
              "    <path d=\"M120-120v-720h720v720H120Zm60-500h600v-160H180v160Zm220 220h160v-160H400v160Zm0 220h160v-160H400v160ZM180-400h160v-160H180v160Zm440 0h160v-160H620v160ZM180-180h160v-160H180v160Zm440 0h160v-160H620v160Z\"/>\n",
              "  </svg>\n",
              "    </button>\n",
              "\n",
              "  <style>\n",
              "    .colab-df-container {\n",
              "      display:flex;\n",
              "      gap: 12px;\n",
              "    }\n",
              "\n",
              "    .colab-df-convert {\n",
              "      background-color: #E8F0FE;\n",
              "      border: none;\n",
              "      border-radius: 50%;\n",
              "      cursor: pointer;\n",
              "      display: none;\n",
              "      fill: #1967D2;\n",
              "      height: 32px;\n",
              "      padding: 0 0 0 0;\n",
              "      width: 32px;\n",
              "    }\n",
              "\n",
              "    .colab-df-convert:hover {\n",
              "      background-color: #E2EBFA;\n",
              "      box-shadow: 0px 1px 2px rgba(60, 64, 67, 0.3), 0px 1px 3px 1px rgba(60, 64, 67, 0.15);\n",
              "      fill: #174EA6;\n",
              "    }\n",
              "\n",
              "    .colab-df-buttons div {\n",
              "      margin-bottom: 4px;\n",
              "    }\n",
              "\n",
              "    [theme=dark] .colab-df-convert {\n",
              "      background-color: #3B4455;\n",
              "      fill: #D2E3FC;\n",
              "    }\n",
              "\n",
              "    [theme=dark] .colab-df-convert:hover {\n",
              "      background-color: #434B5C;\n",
              "      box-shadow: 0px 1px 3px 1px rgba(0, 0, 0, 0.15);\n",
              "      filter: drop-shadow(0px 1px 2px rgba(0, 0, 0, 0.3));\n",
              "      fill: #FFFFFF;\n",
              "    }\n",
              "  </style>\n",
              "\n",
              "    <script>\n",
              "      const buttonEl =\n",
              "        document.querySelector('#df-7652ad94-1559-4121-ab7b-3a88384a4c18 button.colab-df-convert');\n",
              "      buttonEl.style.display =\n",
              "        google.colab.kernel.accessAllowed ? 'block' : 'none';\n",
              "\n",
              "      async function convertToInteractive(key) {\n",
              "        const element = document.querySelector('#df-7652ad94-1559-4121-ab7b-3a88384a4c18');\n",
              "        const dataTable =\n",
              "          await google.colab.kernel.invokeFunction('convertToInteractive',\n",
              "                                                    [key], {});\n",
              "        if (!dataTable) return;\n",
              "\n",
              "        const docLinkHtml = 'Like what you see? Visit the ' +\n",
              "          '<a target=\"_blank\" href=https://colab.research.google.com/notebooks/data_table.ipynb>data table notebook</a>'\n",
              "          + ' to learn more about interactive tables.';\n",
              "        element.innerHTML = '';\n",
              "        dataTable['output_type'] = 'display_data';\n",
              "        await google.colab.output.renderOutput(dataTable, element);\n",
              "        const docLink = document.createElement('div');\n",
              "        docLink.innerHTML = docLinkHtml;\n",
              "        element.appendChild(docLink);\n",
              "      }\n",
              "    </script>\n",
              "  </div>\n",
              "\n",
              "\n",
              "    <div id=\"df-5bfc40f6-21d9-4383-8feb-c2d82010ebc0\">\n",
              "      <button class=\"colab-df-quickchart\" onclick=\"quickchart('df-5bfc40f6-21d9-4383-8feb-c2d82010ebc0')\"\n",
              "                title=\"Suggest charts\"\n",
              "                style=\"display:none;\">\n",
              "\n",
              "<svg xmlns=\"http://www.w3.org/2000/svg\" height=\"24px\"viewBox=\"0 0 24 24\"\n",
              "     width=\"24px\">\n",
              "    <g>\n",
              "        <path d=\"M19 3H5c-1.1 0-2 .9-2 2v14c0 1.1.9 2 2 2h14c1.1 0 2-.9 2-2V5c0-1.1-.9-2-2-2zM9 17H7v-7h2v7zm4 0h-2V7h2v10zm4 0h-2v-4h2v4z\"/>\n",
              "    </g>\n",
              "</svg>\n",
              "      </button>\n",
              "\n",
              "<style>\n",
              "  .colab-df-quickchart {\n",
              "      --bg-color: #E8F0FE;\n",
              "      --fill-color: #1967D2;\n",
              "      --hover-bg-color: #E2EBFA;\n",
              "      --hover-fill-color: #174EA6;\n",
              "      --disabled-fill-color: #AAA;\n",
              "      --disabled-bg-color: #DDD;\n",
              "  }\n",
              "\n",
              "  [theme=dark] .colab-df-quickchart {\n",
              "      --bg-color: #3B4455;\n",
              "      --fill-color: #D2E3FC;\n",
              "      --hover-bg-color: #434B5C;\n",
              "      --hover-fill-color: #FFFFFF;\n",
              "      --disabled-bg-color: #3B4455;\n",
              "      --disabled-fill-color: #666;\n",
              "  }\n",
              "\n",
              "  .colab-df-quickchart {\n",
              "    background-color: var(--bg-color);\n",
              "    border: none;\n",
              "    border-radius: 50%;\n",
              "    cursor: pointer;\n",
              "    display: none;\n",
              "    fill: var(--fill-color);\n",
              "    height: 32px;\n",
              "    padding: 0;\n",
              "    width: 32px;\n",
              "  }\n",
              "\n",
              "  .colab-df-quickchart:hover {\n",
              "    background-color: var(--hover-bg-color);\n",
              "    box-shadow: 0 1px 2px rgba(60, 64, 67, 0.3), 0 1px 3px 1px rgba(60, 64, 67, 0.15);\n",
              "    fill: var(--button-hover-fill-color);\n",
              "  }\n",
              "\n",
              "  .colab-df-quickchart-complete:disabled,\n",
              "  .colab-df-quickchart-complete:disabled:hover {\n",
              "    background-color: var(--disabled-bg-color);\n",
              "    fill: var(--disabled-fill-color);\n",
              "    box-shadow: none;\n",
              "  }\n",
              "\n",
              "  .colab-df-spinner {\n",
              "    border: 2px solid var(--fill-color);\n",
              "    border-color: transparent;\n",
              "    border-bottom-color: var(--fill-color);\n",
              "    animation:\n",
              "      spin 1s steps(1) infinite;\n",
              "  }\n",
              "\n",
              "  @keyframes spin {\n",
              "    0% {\n",
              "      border-color: transparent;\n",
              "      border-bottom-color: var(--fill-color);\n",
              "      border-left-color: var(--fill-color);\n",
              "    }\n",
              "    20% {\n",
              "      border-color: transparent;\n",
              "      border-left-color: var(--fill-color);\n",
              "      border-top-color: var(--fill-color);\n",
              "    }\n",
              "    30% {\n",
              "      border-color: transparent;\n",
              "      border-left-color: var(--fill-color);\n",
              "      border-top-color: var(--fill-color);\n",
              "      border-right-color: var(--fill-color);\n",
              "    }\n",
              "    40% {\n",
              "      border-color: transparent;\n",
              "      border-right-color: var(--fill-color);\n",
              "      border-top-color: var(--fill-color);\n",
              "    }\n",
              "    60% {\n",
              "      border-color: transparent;\n",
              "      border-right-color: var(--fill-color);\n",
              "    }\n",
              "    80% {\n",
              "      border-color: transparent;\n",
              "      border-right-color: var(--fill-color);\n",
              "      border-bottom-color: var(--fill-color);\n",
              "    }\n",
              "    90% {\n",
              "      border-color: transparent;\n",
              "      border-bottom-color: var(--fill-color);\n",
              "    }\n",
              "  }\n",
              "</style>\n",
              "\n",
              "      <script>\n",
              "        async function quickchart(key) {\n",
              "          const quickchartButtonEl =\n",
              "            document.querySelector('#' + key + ' button');\n",
              "          quickchartButtonEl.disabled = true;  // To prevent multiple clicks.\n",
              "          quickchartButtonEl.classList.add('colab-df-spinner');\n",
              "          try {\n",
              "            const charts = await google.colab.kernel.invokeFunction(\n",
              "                'suggestCharts', [key], {});\n",
              "          } catch (error) {\n",
              "            console.error('Error during call to suggestCharts:', error);\n",
              "          }\n",
              "          quickchartButtonEl.classList.remove('colab-df-spinner');\n",
              "          quickchartButtonEl.classList.add('colab-df-quickchart-complete');\n",
              "        }\n",
              "        (() => {\n",
              "          let quickchartButtonEl =\n",
              "            document.querySelector('#df-5bfc40f6-21d9-4383-8feb-c2d82010ebc0 button');\n",
              "          quickchartButtonEl.style.display =\n",
              "            google.colab.kernel.accessAllowed ? 'block' : 'none';\n",
              "        })();\n",
              "      </script>\n",
              "    </div>\n",
              "\n",
              "  <div id=\"id_634248cb-cc9c-47b3-aafc-e66657f28e82\">\n",
              "    <style>\n",
              "      .colab-df-generate {\n",
              "        background-color: #E8F0FE;\n",
              "        border: none;\n",
              "        border-radius: 50%;\n",
              "        cursor: pointer;\n",
              "        display: none;\n",
              "        fill: #1967D2;\n",
              "        height: 32px;\n",
              "        padding: 0 0 0 0;\n",
              "        width: 32px;\n",
              "      }\n",
              "\n",
              "      .colab-df-generate:hover {\n",
              "        background-color: #E2EBFA;\n",
              "        box-shadow: 0px 1px 2px rgba(60, 64, 67, 0.3), 0px 1px 3px 1px rgba(60, 64, 67, 0.15);\n",
              "        fill: #174EA6;\n",
              "      }\n",
              "\n",
              "      [theme=dark] .colab-df-generate {\n",
              "        background-color: #3B4455;\n",
              "        fill: #D2E3FC;\n",
              "      }\n",
              "\n",
              "      [theme=dark] .colab-df-generate:hover {\n",
              "        background-color: #434B5C;\n",
              "        box-shadow: 0px 1px 3px 1px rgba(0, 0, 0, 0.15);\n",
              "        filter: drop-shadow(0px 1px 2px rgba(0, 0, 0, 0.3));\n",
              "        fill: #FFFFFF;\n",
              "      }\n",
              "    </style>\n",
              "    <button class=\"colab-df-generate\" onclick=\"generateWithVariable('df')\"\n",
              "            title=\"Generate code using this dataframe.\"\n",
              "            style=\"display:none;\">\n",
              "\n",
              "  <svg xmlns=\"http://www.w3.org/2000/svg\" height=\"24px\"viewBox=\"0 0 24 24\"\n",
              "       width=\"24px\">\n",
              "    <path d=\"M7,19H8.4L18.45,9,17,7.55,7,17.6ZM5,21V16.75L18.45,3.32a2,2,0,0,1,2.83,0l1.4,1.43a1.91,1.91,0,0,1,.58,1.4,1.91,1.91,0,0,1-.58,1.4L9.25,21ZM18.45,9,17,7.55Zm-12,3A5.31,5.31,0,0,0,4.9,8.1,5.31,5.31,0,0,0,1,6.5,5.31,5.31,0,0,0,4.9,4.9,5.31,5.31,0,0,0,6.5,1,5.31,5.31,0,0,0,8.1,4.9,5.31,5.31,0,0,0,12,6.5,5.46,5.46,0,0,0,6.5,12Z\"/>\n",
              "  </svg>\n",
              "    </button>\n",
              "    <script>\n",
              "      (() => {\n",
              "      const buttonEl =\n",
              "        document.querySelector('#id_634248cb-cc9c-47b3-aafc-e66657f28e82 button.colab-df-generate');\n",
              "      buttonEl.style.display =\n",
              "        google.colab.kernel.accessAllowed ? 'block' : 'none';\n",
              "\n",
              "      buttonEl.onclick = () => {\n",
              "        google.colab.notebook.generateWithVariable('df');\n",
              "      }\n",
              "      })();\n",
              "    </script>\n",
              "  </div>\n",
              "\n",
              "    </div>\n",
              "  </div>\n"
            ],
            "application/vnd.google.colaboratory.intrinsic+json": {
              "type": "dataframe",
              "variable_name": "df",
              "summary": "{\n  \"name\": \"df\",\n  \"rows\": 100,\n  \"fields\": [\n    {\n      \"column\": \"X1\",\n      \"properties\": {\n        \"dtype\": \"number\",\n        \"std\": 1.1721814939918593,\n        \"min\": 0.0,\n        \"max\": 4.0,\n        \"num_unique_values\": 100,\n        \"samples\": [\n          3.353535354,\n          2.141414141,\n          2.828282828\n        ],\n        \"semantic_type\": \"\",\n        \"description\": \"\"\n      }\n    },\n    {\n      \"column\": \"X2\",\n      \"properties\": {\n        \"dtype\": \"number\",\n        \"std\": 1.1721536398366212,\n        \"min\": 0.07030303,\n        \"max\": 3.949090909,\n        \"num_unique_values\": 100,\n        \"samples\": [\n          1.120808081,\n          0.272323232,\n          0.086464646\n        ],\n        \"semantic_type\": \"\",\n        \"description\": \"\"\n      }\n    },\n    {\n      \"column\": \"X3\",\n      \"properties\": {\n        \"dtype\": \"number\",\n        \"std\": 1.163004879154481,\n        \"min\": 0.027878788,\n        \"max\": 3.943030303,\n        \"num_unique_values\": 100,\n        \"samples\": [\n          1.664242424,\n          0.20969697,\n          3.833939394\n        ],\n        \"semantic_type\": \"\",\n        \"description\": \"\"\n      }\n    },\n    {\n      \"column\": \"Y\",\n      \"properties\": {\n        \"dtype\": \"number\",\n        \"std\": 2.77464264389285,\n        \"min\": -5.332454989,\n        \"max\": 5.545892118,\n        \"num_unique_values\": 100,\n        \"samples\": [\n          -1.678452336,\n          2.569971294,\n          -0.650022584\n        ],\n        \"semantic_type\": \"\",\n        \"description\": \"\"\n      }\n    }\n  ]\n}"
            }
          },
          "metadata": {}
        }
      ]
    },
    {
      "cell_type": "code",
      "source": [
        "# For the first three columns X1, X2, X3\n",
        "X1 = df.values[:, 0]  # First column X1\n",
        "X2 = df.values[:, 1]  # Second column X2\n",
        "X3 = df.values[:, 2]  # Third column X3\n",
        "Y = df.values[:, 3]  # Fourth column Y\n",
        "m = len(Y)  # Number of training examples\n",
        "n = len(X1)  # Number of training examples\n",
        "o = len(X2)  # Number of training examples\n",
        "p = len(X3)  # Number of training examples\n",
        "\n",
        "\n",
        "# It will show all the records and the total number of training examples\n",
        "print('m = ', m)\n",
        "print('n = ', n)\n",
        "print('o = ', o)\n",
        "print('p = ', p)\n",
        "print('X1 = ', X1[: 100])\n",
        "print('X2 = ', X2[: 100])\n",
        "print('X3 = ', X3[: 100])\n",
        "print('Y = ', Y[: 100])"
      ],
      "metadata": {
        "colab": {
          "base_uri": "https://localhost:8080/"
        },
        "id": "aM0ucF0zmHQU",
        "outputId": "94f4d0b9-bcd1-4e38-b754-a104192776d5"
      },
      "execution_count": 4,
      "outputs": [
        {
          "output_type": "stream",
          "name": "stdout",
          "text": [
            "m =  100\n",
            "n =  100\n",
            "o =  100\n",
            "p =  100\n",
            "X1 =  [0.         0.04040404 0.08080808 0.12121212 0.16161616 0.2020202\n",
            " 0.24242424 0.28282828 0.32323232 0.36363636 0.4040404  0.44444444\n",
            " 0.48484848 0.52525252 0.56565657 0.60606061 0.64646465 0.68686869\n",
            " 0.72727273 0.76767677 0.80808081 0.84848485 0.88888889 0.92929293\n",
            " 0.96969697 1.01010101 1.05050505 1.09090909 1.13131313 1.17171717\n",
            " 1.21212121 1.25252525 1.29292929 1.33333333 1.37373737 1.41414141\n",
            " 1.45454546 1.49494949 1.53535354 1.57575758 1.61616162 1.65656566\n",
            " 1.6969697  1.73737374 1.77777778 1.81818182 1.85858586 1.8989899\n",
            " 1.93939394 1.97979798 2.02020202 2.06060606 2.1010101  2.14141414\n",
            " 2.18181818 2.22222222 2.26262626 2.3030303  2.34343434 2.38383838\n",
            " 2.42424242 2.46464646 2.5050505  2.54545455 2.58585859 2.62626263\n",
            " 2.66666667 2.70707071 2.74747475 2.78787879 2.82828283 2.86868687\n",
            " 2.90909091 2.94949495 2.98989899 3.03030303 3.07070707 3.11111111\n",
            " 3.15151515 3.19191919 3.23232323 3.27272727 3.31313131 3.35353535\n",
            " 3.39393939 3.43434343 3.47474748 3.51515151 3.55555556 3.5959596\n",
            " 3.63636364 3.67676768 3.71717172 3.75757576 3.7979798  3.83838384\n",
            " 3.87878788 3.91919192 3.95959596 4.        ]\n",
            "X2 =  [3.44       0.1349495  0.82989899 1.52484848 2.21979798 2.91474747\n",
            " 3.60969697 0.30464646 0.99959596 1.69454546 2.38949495 3.08444444\n",
            " 3.77939394 0.47434343 1.16929293 1.86424242 2.55919192 3.25414141\n",
            " 3.94909091 0.6440404  1.3389899  2.03393939 2.72888889 3.42383838\n",
            " 0.11878788 0.81373737 1.50868687 2.20363636 2.89858586 3.59353535\n",
            " 0.28848485 0.98343434 1.67838384 2.37333333 3.06828283 3.76323232\n",
            " 0.45818182 1.15313131 1.84808081 2.5430303  3.2379798  3.93292929\n",
            " 0.62787879 1.32282828 2.01777778 2.71272727 3.40767677 0.10262626\n",
            " 0.79757576 1.49252525 2.18747475 2.88242424 3.57737374 0.27232323\n",
            " 0.96727273 1.66222222 2.35717172 3.05212121 3.74707071 0.4420202\n",
            " 1.1369697  1.83191919 2.52686869 3.22181818 3.91676768 0.61171717\n",
            " 1.30666667 2.00161616 2.69656566 3.39151515 0.08646465 0.78141414\n",
            " 1.47636364 2.17131313 2.86626263 3.56121212 0.25616162 0.95111111\n",
            " 1.64606061 2.3410101  3.0359596  3.73090909 0.42585859 1.12080808\n",
            " 1.81575758 2.51070707 3.20565657 3.90060606 0.59555556 1.29050505\n",
            " 1.98545455 2.68040404 3.37535353 0.07030303 0.76525252 1.46020202\n",
            " 2.15515152 2.85010101 3.5450505  0.24      ]\n",
            "X3 =  [0.44       0.88848485 1.3369697  1.78545454 2.23393939 2.68242424\n",
            " 3.13090909 3.57939394 0.02787879 0.47636364 0.92484849 1.37333333\n",
            " 1.82181818 2.27030303 2.71878788 3.16727273 3.61575758 0.06424242\n",
            " 0.51272727 0.96121212 1.40969697 1.85818182 2.30666667 2.75515152\n",
            " 3.20363636 3.65212121 0.10060606 0.54909091 0.99757576 1.44606061\n",
            " 1.89454546 2.3430303  2.79151515 3.24       3.68848485 0.1369697\n",
            " 0.58545455 1.03393939 1.48242424 1.93090909 2.37939394 2.82787879\n",
            " 3.27636364 3.72484848 0.17333333 0.62181818 1.07030303 1.51878788\n",
            " 1.96727273 2.41575758 2.86424242 3.31272727 3.76121212 0.20969697\n",
            " 0.65818182 1.10666667 1.55515151 2.00363636 2.45212121 2.90060606\n",
            " 3.34909091 3.79757576 0.24606061 0.69454545 1.1430303  1.59151515\n",
            " 2.04       2.48848485 2.9369697  3.38545454 3.83393939 0.28242424\n",
            " 0.73090909 1.17939394 1.62787879 2.07636364 2.52484849 2.97333333\n",
            " 3.42181818 3.87030303 0.31878788 0.76727273 1.21575758 1.66424242\n",
            " 2.11272727 2.56121212 3.00969697 3.45818182 3.90666667 0.35515151\n",
            " 0.80363636 1.25212121 1.70060606 2.14909091 2.59757576 3.04606061\n",
            " 3.49454545 3.9430303  0.39151515 0.84      ]\n",
            "Y =  [ 4.38754501  2.6796499   2.96848981  3.25406475  3.53637472  3.81541972\n",
            "  4.09119974  2.36371479  3.83296487  4.09894997  4.3616701   4.62112526\n",
            "  4.87731544  3.13024065  3.37990089  3.62629616  3.86942645  5.30929177\n",
            "  5.54589212  3.77922749  4.00929789  4.23610332  4.45964378  4.67991926\n",
            "  2.89692977  3.1106753   4.52115587  4.72837146  4.93232208  5.13300772\n",
            "  3.33042839  3.52458409  3.71547481  3.90310057  4.08746135  5.46855715\n",
            "  3.64638799  3.82095385  3.99225473  4.16029065  4.32506159  4.48656756\n",
            "  2.64480856  2.79978458  4.15149563  4.29994171  4.44512281  2.58703894\n",
            "  2.7256901   2.86107628  2.99319749  3.12205374  3.247645    2.56997129\n",
            "  2.68903261  2.80482896  2.91736034  3.02662674  3.13262817  1.23536462\n",
            "  1.3348361   1.43104261  2.72398415  2.81366071  2.9000723   0.98321892\n",
            "  1.06310057  1.13971724  1.21306894  1.28315566 -0.65002258  0.6135342\n",
            "  0.673826    0.73085284  0.7846147   0.83511159 -1.1176565  -1.07368956\n",
            " -1.03298759 -0.99555059  0.23862143  0.26952848 -1.70282944 -1.67845234\n",
            " -1.6573402  -1.63949305 -1.62491086 -1.61359365 -3.60554141 -2.40075414\n",
            " -2.39923185 -2.40097453 -2.40598218 -4.4142548  -4.4257924  -4.44059497\n",
            " -4.45866252 -4.47999504 -3.30459253 -5.33245499]\n"
          ]
        }
      ]
    },
    {
      "cell_type": "code",
      "source": [
        "X1 = df.values[:, 0]  # Input values from the first column\n",
        "X2 = df.values[:, 1]  # Input values from the second column\n",
        "X3 = df.values[:, 2]  # Input values from the third column\n",
        "Y = df.values[:, 3]  # Output values from the fourth column\n",
        "\n",
        "\n",
        "# Scatter plot\n",
        "plt.scatter(X1, Y, color='blue', marker='*')\n",
        "plt.scatter(X2, Y, color='red', marker='+')\n",
        "plt.scatter(X3, Y, color='green', marker='.')\n",
        "\n",
        "\n",
        "# Grid, labels, and title\n",
        "plt.grid(True)\n",
        "plt.rcParams[\"figure.figsize\"] = (6, 6)\n",
        "plt.xlabel('X1')\n",
        "plt.ylabel('Y')\n",
        "plt.title('Scatter plot of training data')\n",
        "\n",
        "# Show the plot\n",
        "plt.show()"
      ],
      "metadata": {
        "colab": {
          "base_uri": "https://localhost:8080/",
          "height": 472
        },
        "id": "QGoiC9aGrLsh",
        "outputId": "e8c8cdcd-a1c8-4820-fc29-85f231155bd7"
      },
      "execution_count": 5,
      "outputs": [
        {
          "output_type": "display_data",
          "data": {
            "text/plain": [
              "<Figure size 640x480 with 1 Axes>"
            ],
            "image/png": "[encoded data removed]"
          },
          "metadata": {}
        }
      ]
    },
    {
      "cell_type": "code",
      "source": [
        "X_0 = np.ones((m, 1))\n",
        "X_0[:5]"
      ],
      "metadata": {
        "colab": {
          "base_uri": "https://localhost:8080/"
        },
        "id": "0wK6hYnXuyxT",
        "outputId": "1a3f9964-8c20-4c24-b9d6-3d953bb91d22"
      },
      "execution_count": 6,
      "outputs": [
        {
          "output_type": "execute_result",
          "data": {
            "text/plain": [
              "array([[1.],\n",
              "       [1.],\n",
              "       [1.],\n",
              "       [1.],\n",
              "       [1.]])"
            ]
          },
          "metadata": {},
          "execution_count": 6
        }
      ]
    },
    {
      "cell_type": "code",
      "source": [
        "X1_1 = X1.reshape(m, 1)\n",
        "X1_1[:10]"
      ],
      "metadata": {
        "colab": {
          "base_uri": "https://localhost:8080/"
        },
        "id": "sJRiCVoS_eZU",
        "outputId": "08253fa7-35a5-4378-d028-ba7d6d0b250f"
      },
      "execution_count": 7,
      "outputs": [
        {
          "output_type": "execute_result",
          "data": {
            "text/plain": [
              "array([[0.        ],\n",
              "       [0.04040404],\n",
              "       [0.08080808],\n",
              "       [0.12121212],\n",
              "       [0.16161616],\n",
              "       [0.2020202 ],\n",
              "       [0.24242424],\n",
              "       [0.28282828],\n",
              "       [0.32323232],\n",
              "       [0.36363636]])"
            ]
          },
          "metadata": {},
          "execution_count": 7
        }
      ]
    },
    {
      "cell_type": "code",
      "source": [
        "X2_1 = X2.reshape(m, 1)\n",
        "X2_1[:10]"
      ],
      "metadata": {
        "colab": {
          "base_uri": "https://localhost:8080/"
        },
        "id": "SJ9-l4t_nbmp",
        "outputId": "80174711-2d90-4a72-f7fb-43377338b55d"
      },
      "execution_count": 8,
      "outputs": [
        {
          "output_type": "execute_result",
          "data": {
            "text/plain": [
              "array([[3.44      ],\n",
              "       [0.1349495 ],\n",
              "       [0.82989899],\n",
              "       [1.52484848],\n",
              "       [2.21979798],\n",
              "       [2.91474747],\n",
              "       [3.60969697],\n",
              "       [0.30464646],\n",
              "       [0.99959596],\n",
              "       [1.69454546]])"
            ]
          },
          "metadata": {},
          "execution_count": 8
        }
      ]
    },
    {
      "cell_type": "code",
      "source": [
        "X3_1 = X3.reshape(m, 1)\n",
        "X3_1[:10]"
      ],
      "metadata": {
        "colab": {
          "base_uri": "https://localhost:8080/"
        },
        "id": "9BLY0HgNndHO",
        "outputId": "a3a371e1-18c4-49fa-c0c7-634958c46990"
      },
      "execution_count": 9,
      "outputs": [
        {
          "output_type": "execute_result",
          "data": {
            "text/plain": [
              "array([[0.44      ],\n",
              "       [0.88848485],\n",
              "       [1.3369697 ],\n",
              "       [1.78545454],\n",
              "       [2.23393939],\n",
              "       [2.68242424],\n",
              "       [3.13090909],\n",
              "       [3.57939394],\n",
              "       [0.02787879],\n",
              "       [0.47636364]])"
            ]
          },
          "metadata": {},
          "execution_count": 9
        }
      ]
    },
    {
      "cell_type": "code",
      "source": [
        "X1 = np.hstack((X_0, X1_1))\n",
        "X1[:5]\n"
      ],
      "metadata": {
        "colab": {
          "base_uri": "https://localhost:8080/"
        },
        "id": "pge9kCa__6oV",
        "outputId": "1d4dc33e-528e-4a3f-e612-1340cccc77dc"
      },
      "execution_count": 10,
      "outputs": [
        {
          "output_type": "execute_result",
          "data": {
            "text/plain": [
              "array([[1.        , 0.        ],\n",
              "       [1.        , 0.04040404],\n",
              "       [1.        , 0.08080808],\n",
              "       [1.        , 0.12121212],\n",
              "       [1.        , 0.16161616]])"
            ]
          },
          "metadata": {},
          "execution_count": 10
        }
      ]
    },
    {
      "cell_type": "code",
      "source": [
        "X2 = np.hstack((X_0, X2_1))\n",
        "X2[:5]"
      ],
      "metadata": {
        "colab": {
          "base_uri": "https://localhost:8080/"
        },
        "id": "_LU2BfJxn3lt",
        "outputId": "d6720a54-4a5f-415a-daa0-cf24d0b7b372"
      },
      "execution_count": 11,
      "outputs": [
        {
          "output_type": "execute_result",
          "data": {
            "text/plain": [
              "array([[1.        , 3.44      ],\n",
              "       [1.        , 0.1349495 ],\n",
              "       [1.        , 0.82989899],\n",
              "       [1.        , 1.52484848],\n",
              "       [1.        , 2.21979798]])"
            ]
          },
          "metadata": {},
          "execution_count": 11
        }
      ]
    },
    {
      "cell_type": "code",
      "source": [
        "X3 = np.hstack((X_0, X3_1))\n",
        "X3[:5]"
      ],
      "metadata": {
        "colab": {
          "base_uri": "https://localhost:8080/"
        },
        "id": "6G-s32iun33n",
        "outputId": "19fe678b-120b-4e4b-9215-676935a8576f"
      },
      "execution_count": 12,
      "outputs": [
        {
          "output_type": "execute_result",
          "data": {
            "text/plain": [
              "array([[1.        , 0.44      ],\n",
              "       [1.        , 0.88848485],\n",
              "       [1.        , 1.3369697 ],\n",
              "       [1.        , 1.78545454],\n",
              "       [1.        , 2.23393939]])"
            ]
          },
          "metadata": {},
          "execution_count": 12
        }
      ]
    },
    {
      "cell_type": "code",
      "source": [
        "theta = np.zeros(2)\n",
        "theta"
      ],
      "metadata": {
        "colab": {
          "base_uri": "https://localhost:8080/"
        },
        "id": "gs8ZK5oHAaJ7",
        "outputId": "5828e6c4-1201-45bc-98f2-2416affef7d3"
      },
      "execution_count": 13,
      "outputs": [
        {
          "output_type": "execute_result",
          "data": {
            "text/plain": [
              "array([0., 0.])"
            ]
          },
          "metadata": {},
          "execution_count": 13
        }
      ]
    },
    {
      "cell_type": "code",
      "source": [
        "def compute_cost(X1, Y, theta):\n",
        "\n",
        "    X1predictions = X1.dot(theta)\n",
        "    X1errors = np.subtract(X1predictions, Y)\n",
        "    X1sqrErrors = np.square(X1errors)\n",
        "    D = 1 / (2 * m) * np.sum(X1sqrErrors)\n",
        "    return D"
      ],
      "metadata": {
        "id": "OXBdUX7hoU2b"
      },
      "execution_count": 14,
      "outputs": []
    },
    {
      "cell_type": "code",
      "source": [
        "def compute_cost(X2, Y, theta):\n",
        "\n",
        "    X2predictions = X2.dot(theta)\n",
        "    X2errors = np.subtract(X2predictions, Y)\n",
        "    X2sqrErrors = np.square(X2errors)\n",
        "    E = 1 / (2 * m) * np.sum(X2sqrErrors)\n",
        "    return E"
      ],
      "metadata": {
        "id": "4fufeQSVWsAq"
      },
      "execution_count": 15,
      "outputs": []
    },
    {
      "cell_type": "code",
      "source": [
        "def compute_cost(X3, Y, theta):\n",
        "\n",
        "    X3predictions = X3.dot(theta)\n",
        "    X3errors = np.subtract(X3predictions, Y)\n",
        "    X3sqrErrors = np.square(X3errors)\n",
        "    F = 1 / (2 * m) * np.sum(X3sqrErrors)\n",
        "    return F"
      ],
      "metadata": {
        "id": "T-YQ8tYkYnLE"
      },
      "execution_count": 16,
      "outputs": []
    },
    {
      "cell_type": "code",
      "source": [
        "X1cost = compute_cost(X1, Y, theta)\n",
        "print('The cost for given values of theta_0 and theta_1 =', X1cost)\n",
        "X2cost = compute_cost(X2, Y, theta)\n",
        "print('The cost for given values of theta_0 and theta_1 =', X2cost)\n",
        "X3cost = compute_cost(X3, Y, theta)\n",
        "print('The cost for given values of theta_0 and theta_1 =', X3cost)"
      ],
      "metadata": {
        "colab": {
          "base_uri": "https://localhost:8080/"
        },
        "id": "1-UEKnCXAyG7",
        "outputId": "1b1394f2-2c9a-4c7d-ab36-d2372f5afdc2"
      },
      "execution_count": 17,
      "outputs": [
        {
          "output_type": "stream",
          "name": "stdout",
          "text": [
            "The cost for given values of theta_0 and theta_1 = 5.524438459196242\n",
            "The cost for given values of theta_0 and theta_1 = 5.524438459196242\n",
            "The cost for given values of theta_0 and theta_1 = 5.524438459196242\n"
          ]
        }
      ]
    },
    {
      "cell_type": "code",
      "source": [
        "def gradient_descent(X1, Y, theta, alpha, iterations):\n",
        "\n",
        "    m = len(Y)\n",
        "    X1cost_history = np.zeros(iterations)\n",
        "\n",
        "    for i in range(iterations):\n",
        "        X1predictions = X1.dot(theta)\n",
        "        X1errors = np.subtract(X1predictions, Y)\n",
        "        X1sum_delta = (alpha / m) * X1.transpose().dot(X1errors)\n",
        "        theta -= X1sum_delta\n",
        "        X1cost_history[i] = compute_cost(X1, Y, theta)\n",
        "\n",
        "    return theta, X1cost_history"
      ],
      "metadata": {
        "id": "1dQyr39Do4r6"
      },
      "execution_count": 18,
      "outputs": []
    },
    {
      "cell_type": "code",
      "source": [
        "def gradient_descent(X2, Y, theta, alpha, iterations):\n",
        "\n",
        "    m = len(Y)\n",
        "    X2cost_history = np.zeros(iterations)\n",
        "\n",
        "    for i in range(iterations):\n",
        "        X2predictions = X2.dot(theta)\n",
        "        X2errors = np.subtract(X2predictions, Y)\n",
        "        X2sum_delta = (alpha / m) * X2.transpose().dot(X2errors)\n",
        "        theta -= X2sum_delta\n",
        "        X2cost_history[i] = compute_cost(X2, Y, theta)\n",
        "\n",
        "    return theta, X2cost_history"
      ],
      "metadata": {
        "id": "VG4OcCzoWsAq"
      },
      "execution_count": 19,
      "outputs": []
    },
    {
      "cell_type": "code",
      "source": [
        "def gradient_descent(X3, Y, theta, alpha, iterations):\n",
        "\n",
        "    m = len(Y)\n",
        "    X3cost_history = np.zeros(iterations)\n",
        "\n",
        "    for i in range(iterations):\n",
        "        X3predictions = X3.dot(theta)\n",
        "        X3errors = np.subtract(X3predictions, Y)\n",
        "        X3sum_delta = (alpha / m) * X3.transpose().dot(X3errors)\n",
        "        theta -= X3sum_delta\n",
        "        X3cost_history[i] = compute_cost(X3, Y, theta)\n",
        "\n",
        "    return theta, X3cost_history"
      ],
      "metadata": {
        "id": "Bof5lzG2YnLF"
      },
      "execution_count": 20,
      "outputs": []
    },
    {
      "cell_type": "code",
      "source": [
        "theta = [0., 0.]\n",
        "iterations = 1500\n",
        "alpha = 0.01"
      ],
      "metadata": {
        "id": "4V_0VSRJCxP4"
      },
      "execution_count": 21,
      "outputs": []
    },
    {
      "cell_type": "code",
      "source": [
        "theta, X1cost_history = gradient_descent(X1, Y, theta, alpha, iterations)\n",
        "print('Final value of theta =', theta)\n",
        "print('cost_history =', X1cost_history)\n",
        "theta, X2cost_history = gradient_descent(X2, Y, theta, alpha, iterations)\n",
        "print('Final value of theta =', theta)\n",
        "print('cost_history =', X2cost_history)\n",
        "theta, X3cost_history = gradient_descent(X3, Y, theta, alpha, iterations)\n",
        "print('Final value of theta =', theta)\n",
        "print('cost_history =', X3cost_history)"
      ],
      "metadata": {
        "colab": {
          "base_uri": "https://localhost:8080/"
        },
        "id": "3eqae3PbC97m",
        "outputId": "2970af30-968c-4a8c-e14b-0f4365eb8179"
      },
      "execution_count": 22,
      "outputs": [
        {
          "output_type": "stream",
          "name": "stdout",
          "text": [
            "Final value of theta = [ 5.71850653 -1.9568206 ]\n",
            "cost_history = [5.48226715 5.44290965 5.40604087 ... 0.99063932 0.99061433 0.99058944]\n",
            "Final value of theta = [0.92183754 0.48530143]\n",
            "cost_history = [7.78019751 7.67266456 7.57620204 ... 3.60380823 3.60378856 3.60376899]\n",
            "Final value of theta = [ 2.80205172 -0.49304729]\n",
            "cost_history = [4.28817888 4.27128079 4.25606956 ... 3.63008237 3.63007954 3.63007671]\n"
          ]
        }
      ]
    },
    {
      "cell_type": "code",
      "source": [
        "# Scatter plot for the training data\n",
        "plt.scatter(X1[:, 1], Y, color='blue', marker='*', label='Training Data')\n",
        "plt.scatter(X2[:, 1], Y, color='red', marker='+', label='Training Data')\n",
        "plt.scatter(X3[:, 1], Y, color='green', marker='.', label='Training Data')\n",
        "\n",
        "# Line plot for the linear regression model\n",
        "plt.plot(X1[:, 1], X1.dot(theta), color='orange', label='X1 Linear Regression')\n",
        "plt.plot(X2[:, 1], X2.dot(theta), color='gray', label='X2 Linear Regression')\n",
        "plt.plot(X3[:, 1], X3.dot(theta), color='pink', label='X3 Linear Regression')\n",
        "\n",
        "# Plot customizations\n",
        "plt.rcParams[\"figure.figsize\"] = (10, 6)\n",
        "plt.grid(True)\n",
        "plt.xlabel('X1, X2, X3')\n",
        "plt.ylabel('Y')\n",
        "plt.title('Linear Regression Fit')\n",
        "plt.legend()\n",
        "\n",
        "# Show the plot\n",
        "plt.show()\n"
      ],
      "metadata": {
        "colab": {
          "base_uri": "https://localhost:8080/",
          "height": 564
        },
        "id": "iTtzME92DQev",
        "outputId": "edbac520-55ed-4145-c9b1-f447f9df34fb"
      },
      "execution_count": 23,
      "outputs": [
        {
          "output_type": "display_data",
          "data": {
            "text/plain": [
              "<Figure size 600x600 with 1 Axes>"
            ],
            "image/png": "[encoded data removed]"
          },
          "metadata": {}
        }
      ]
    },
    {
      "cell_type": "code",
      "source": [
        "plt.plot(range(1, iterations + 1), X1cost_history, color='yellow')\n",
        "plt.rcParams[\"figure.figsize\"] = (10, 6)\n",
        "plt.grid(True)\n",
        "plt.plot(range(1, iterations + 1), X2cost_history, color='purple')\n",
        "plt.rcParams[\"figure.figsize\"] = (10, 6)\n",
        "plt.grid(True)\n",
        "plt.plot(range(1, iterations + 1), X3cost_history, color='black')\n",
        "plt.rcParams[\"figure.figsize\"] = (10, 6)\n",
        "plt.grid(True)\n",
        "\n",
        "plt.xlabel('Number of iterations')\n",
        "plt.ylabel('Cost (J)')\n",
        "plt.title('Convergence of gradient descent')\n",
        "\n",
        "# Show the plot\n",
        "plt.show()"
      ],
      "metadata": {
        "id": "Bo00UrOKEL0P",
        "outputId": "f2a32dba-fe2f-4109-c553-ef41d6918f2f",
        "colab": {
          "base_uri": "https://localhost:8080/",
          "height": 564
        }
      },
      "execution_count": 24,
      "outputs": [
        {
          "output_type": "display_data",
          "data": {
            "text/plain": [
              "<Figure size 1000x600 with 1 Axes>"
            ],
            "image/png": "[encoded data removed]"
          },
          "metadata": {}
        }
      ]
    }
  ]
}